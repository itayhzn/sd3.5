{
 "cells": [
  {
   "cell_type": "code",
   "execution_count": null,
   "id": "6f428f4d",
   "metadata": {},
   "outputs": [],
   "source": [
    "import torch\n",
    "import torch.nn.functional as F\n",
    "import numpy as np\n",
    "import os\n",
    "import matplotlib.pyplot as plt\n",
    "import matplotlib.gridspec as gridspec\n",
    "import matplotlib.animation as animation\n",
    "from matplotlib import rc\n",
    "from IPython.display import HTML\n",
    "from matplotlib import rcParams\n",
    "import seaborn as sns\n",
    "from textwrap import wrap\n",
    "from tqdm import tqdm\n",
    "import pandas as pd\n",
    "import re\n",
    "import math\n",
    "import gc"
   ]
  },
  {
   "cell_type": "code",
   "execution_count": null,
   "id": "2f7e043d",
   "metadata": {},
   "outputs": [],
   "source": [
    "def read_tensors_aux(dir, pt_name_predicate=None):\n",
    "    \"\"\" recursively read tensors from a directory \"\"\"\n",
    "    if pt_name_predicate is None:\n",
    "        pt_name_predicate = lambda x, y: True\n",
    "    tensors = {}\n",
    "    for path in os.listdir(dir):\n",
    "        if path.endswith('.pt'):\n",
    "            key = path[:-3]\n",
    "            if pt_name_predicate is None or pt_name_predicate(key, dir):\n",
    "                try:\n",
    "                    tensors[key] = torch.load(os.path.join(dir, path))\n",
    "                except Exception as e:\n",
    "                    print(f\"Error loading {path}: {e}\")\n",
    "        elif os.path.isdir(os.path.join(dir, path)):\n",
    "            key = path.split('_')[1] if path.startswith('timestep_') else path \n",
    "            tensors[key] = read_tensors_aux(os.path.join(dir, path), pt_name_predicate)\n",
    "        else:\n",
    "            print(f\"Skipping {path}, not a tensor or directory\")\n",
    "    return tensors"
   ]
  },
  {
   "cell_type": "code",
   "execution_count": null,
   "id": "c3cb1ba0",
   "metadata": {},
   "outputs": [],
   "source": [
    "def move_files_from_subdirs_to_dir(root_dir='outputs'):\n",
    "    for subdir in os.listdir(root_dir):\n",
    "        subdir_path = os.path.join(root_dir, subdir)\n",
    "        if os.path.isdir(subdir_path):\n",
    "            for file_name in os.listdir(subdir_path):\n",
    "                src_path = os.path.join(subdir_path, file_name)\n",
    "                dst_path = subdir_path + '.png'\n",
    "                os.rename(src_path, dst_path)\n",
    "            os.rmdir(subdir_path)"
   ]
  },
  {
   "cell_type": "code",
   "execution_count": null,
   "id": "d0194d98",
   "metadata": {},
   "outputs": [],
   "source": [
    "move_files_from_subdirs_to_dir('outputs/dift')"
   ]
  },
  {
   "cell_type": "code",
   "execution_count": null,
   "id": "8489d142",
   "metadata": {},
   "outputs": [],
   "source": [
    "dir = 'tensors/outputs/sd3.5_medium/dift'\n",
    "gen_experiments = [ f for f in os.listdir(dir) if f.startswith('2025') ]"
   ]
  },
  {
   "cell_type": "code",
   "execution_count": null,
   "id": "e9ade482",
   "metadata": {},
   "outputs": [],
   "source": [
    "gen_experiments"
   ]
  },
  {
   "cell_type": "code",
   "execution_count": null,
   "id": "f337e54c",
   "metadata": {},
   "outputs": [],
   "source": [
    "gen_experiments = [exp for exp in gen_experiments if '_A_dog_' in exp]\n",
    "\n",
    "tensors = {}\n",
    "for exp in gen_experiments:\n",
    "    exp_dir = os.path.join(dir, exp, '000000')\n",
    "    seed = int(exp.split('_')[-1])\n",
    "    _t = read_tensors_aux(exp_dir)\n",
    "    tensors[seed] = {\n",
    "        'x': { int(k.split('=')[-1]): v.squeeze(0) for k, v in _t.items() if not 'grad' in k },\n",
    "        'grad': { int(k.split('=')[-1]): v.squeeze(0) for k, v in _t.items() if 'grad' in k } \n",
    "    }\n",
    "    tensors[seed]['x'] = torch.stack( [ tensors[seed]['x'][t] for t in sorted(tensors[seed]['x'].keys())[::-1] ] )\n",
    "    tensors[seed]['grad'] = torch.stack( [ tensors[seed]['grad'][t] for t in sorted(tensors[seed]['grad'].keys())[::-1] ] )\n"
   ]
  },
  {
   "cell_type": "code",
   "execution_count": null,
   "id": "7eb564c2",
   "metadata": {},
   "outputs": [],
   "source": [
    "num_seeds = len(tensors)\n",
    "print(f\"Number of seeds: {num_seeds}\")"
   ]
  },
  {
   "cell_type": "markdown",
   "id": "d629878f",
   "metadata": {},
   "source": [
    "### plotting images"
   ]
  },
  {
   "cell_type": "code",
   "execution_count": null,
   "id": "3dbc71f6",
   "metadata": {},
   "outputs": [],
   "source": [
    "images_dir = 'outputs/dift'\n",
    "filenames = sorted([f for f in os.listdir(images_dir) if f.endswith('.png') and 'dog' in f])\n",
    "seed_to_image = { int(f.split('_')[-1].split('.')[0]): f for f in filenames }\n",
    "num_seeds = len(seed_to_image.keys())\n",
    "\n",
    "fig, axes = plt.subplots(1, num_seeds, figsize=(num_seeds * 2 + 1, 2))\n",
    "\n",
    "for col_idx, (seed, ax) in enumerate(zip(sorted(seed_to_image.keys())[::-1], axes)):\n",
    "    img = plt.imread(os.path.join(images_dir, seed_to_image[seed]))\n",
    "    ax.imshow(img)\n",
    "    ax.axis('off')\n",
    "    ax.set_title(f\"Seed {seed}\", fontsize=8)"
   ]
  },
  {
   "cell_type": "markdown",
   "id": "b0cd93ed",
   "metadata": {},
   "source": [
    "### plotting $x_t$"
   ]
  },
  {
   "cell_type": "code",
   "execution_count": null,
   "id": "4b12c703",
   "metadata": {},
   "outputs": [],
   "source": [
    "# plot a grid of num_timesteps x num_seeds showing channel=7 at each timestep for each seed\n",
    "channel_to_plot = 7\n",
    "\n",
    "seeds = sorted(list(tensors.keys()))[::-1]\n",
    "num_timesteps = tensors[seeds[0]]['x'].shape[0]\n",
    "\n",
    "fig, axes = plt.subplots(num_timesteps, num_seeds, figsize=(num_seeds * 2 + 1, num_timesteps * 2 + 1))\n",
    "for row_idx, (timestep, ax_row) in enumerate(zip(range(num_timesteps), axes)):\n",
    "    for col_idx, (seed, ax) in enumerate(zip(seeds, ax_row)):\n",
    "        ax.imshow(tensors[seed]['x'][timestep,channel_to_plot,:,:].numpy(), aspect='auto', cmap='viridis')\n",
    "        # no axis\n",
    "        ax.axis('off')\n",
    "        if row_idx == 0:\n",
    "            ax.set_title(f'Seed {seed}', fontsize=10)\n",
    "        if col_idx == 0:\n",
    "            ax.set_ylabel(f'Timestep {timestep}', fontsize=10)\n",
    "plt.tight_layout()\n",
    "plt.show()"
   ]
  },
  {
   "cell_type": "markdown",
   "id": "5b8f9389",
   "metadata": {},
   "source": [
    "### plotting $grad_t$"
   ]
  },
  {
   "cell_type": "code",
   "execution_count": null,
   "id": "f024d7fb",
   "metadata": {},
   "outputs": [],
   "source": [
    "# plot a grid of num_timesteps x num_seeds showing channel=7 at each timestep for each seed\n",
    "channel_to_plot = 0\n",
    "\n",
    "seeds = sorted(list(tensors.keys()))[::-1]\n",
    "num_timesteps = tensors[seeds[0]]['x'].shape[0]\n",
    "\n",
    "fig, axes = plt.subplots(num_timesteps, num_seeds, figsize=(num_seeds * 2 + 1, num_timesteps * 2 + 3))\n",
    "for row_idx, (timestep, ax_row) in enumerate(zip(range(num_timesteps), axes)):\n",
    "    for col_idx, (seed, ax) in enumerate(zip(seeds, ax_row)):\n",
    "        ax.imshow(tensors[seed]['grad'][timestep,channel_to_plot,:,:].numpy(), aspect='auto', cmap='viridis')\n",
    "        # no axis\n",
    "        # ax.axis('off')\n",
    "        ax.set_xticks([])\n",
    "        ax.set_yticks([])\n",
    "        if row_idx == 0:\n",
    "            ax.set_title(f'Seed {seed}', fontsize=10)\n",
    "        if col_idx == 0:\n",
    "            ax.set_ylabel(f'Timestep {timestep}', fontsize=10)\n",
    "plt.suptitle(f'Plotting Channel {channel_to_plot} in $grad_t$', fontsize=30, y=1)\n",
    "plt.tight_layout()\n",
    "plt.show()"
   ]
  },
  {
   "cell_type": "markdown",
   "id": "a275c464",
   "metadata": {},
   "source": [
    "### plotting images with heatmaps overlaid"
   ]
  },
  {
   "cell_type": "code",
   "execution_count": null,
   "id": "b2df7da1",
   "metadata": {},
   "outputs": [],
   "source": [
    "def plot_latents_with_heatmaps(latents, heatmaps, col_titles=None, latent_channel_to_plot=7, suptitle=None):\n",
    "    \"\"\"\n",
    "        latents: [tensors of shape (C, H, W)]\n",
    "        heatmaps: [tensors of shape (1, H, W) or (H,W)]\n",
    "        col_titles: [str]\n",
    "        latent_channel_to_plot: int\n",
    "    \"\"\"\n",
    "    if heatmaps is None:\n",
    "        heatmaps = [ torch.zeros_like(latents[0]) for _ in latents ]\n",
    "\n",
    "    hs = []\n",
    "    for h in heatmaps:\n",
    "        if len(h.shape) == 2:\n",
    "            hs.append(h.unsqueeze(0))\n",
    "        else:\n",
    "            assert len(h.shape) == 3\n",
    "            hs.append(h)\n",
    "    heatmaps = hs\n",
    "\n",
    "    num_cols = len(latents)\n",
    "    fig, axes = plt.subplots(1, num_cols, figsize=(num_cols * 3, 3 + (0 if suptitle is None else 1)))\n",
    "    axes = np.atleast_1d(axes)\n",
    "    for col_idx in range(num_cols):\n",
    "        latent = latents[col_idx][latent_channel_to_plot].cpu().numpy()\n",
    "        heatmap = heatmaps[col_idx][0].cpu().numpy()\n",
    "        \n",
    "        axes[col_idx].imshow(latent, aspect='auto', cmap='gist_gray', alpha=1)\n",
    "        axes[col_idx].imshow(heatmap, aspect='auto', cmap='Reds', alpha=0.5)\n",
    "        axes[col_idx].axis('off')\n",
    "        if col_titles is not None:\n",
    "            axes[col_idx].set_title(col_titles[col_idx], fontsize=10)\n",
    "    if suptitle is not None:\n",
    "        plt.suptitle(suptitle, fontsize=20)\n",
    "    plt.tight_layout()\n",
    "    plt.show()"
   ]
  },
  {
   "cell_type": "code",
   "execution_count": null,
   "id": "7eea5e89",
   "metadata": {},
   "outputs": [],
   "source": [
    "def convert_one_hot_to_heatmap(point, latent, radius=1):\n",
    "    row, col = point\n",
    "    heatmap = torch.zeros_like(latent)\n",
    "    for r in range(-radius, radius + 1):\n",
    "        for c in range(-radius, radius + 1):\n",
    "            if 0 <= row + r < heatmap.shape[1] and 0 <= col + c < heatmap.shape[2]:\n",
    "                heatmap[0, row + r, col + c] = 1.0\n",
    "    return heatmap"
   ]
  },
  {
   "cell_type": "code",
   "execution_count": null,
   "id": "1e6c1f58",
   "metadata": {},
   "outputs": [],
   "source": [
    "anchor_points = {\n",
    "    'Left Eye': (35, 38),\n",
    "    'Right Eye': (32, 80),\n",
    "    'Left Nostril': (50, 46),\n",
    "    'Right Nostril': (50, 63),\n",
    "    'Left Ear': (25, 20),\n",
    "    'Right Ear': (25, 100),\n",
    "    'Ball Center': (110, 60)\n",
    "}"
   ]
  },
  {
   "cell_type": "code",
   "execution_count": null,
   "id": "467403e0",
   "metadata": {},
   "outputs": [],
   "source": [
    "latents = [ tensors[s]['x'][-1] for s in seeds ]"
   ]
  },
  {
   "cell_type": "code",
   "execution_count": null,
   "id": "fa28e2b3",
   "metadata": {},
   "outputs": [],
   "source": [
    "plot_latents_with_heatmaps(\n",
    "    latents=latents[:1],\n",
    "    heatmaps=[ convert_one_hot_to_heatmap(anchor_points['Left Eye'], latents[0], radius=1) for _ in seeds ][:1],\n",
    "    col_titles=[f'Seed {s}' for s in seeds],\n",
    "    latent_channel_to_plot=7\n",
    ")"
   ]
  },
  {
   "cell_type": "code",
   "execution_count": null,
   "id": "cd9462a7",
   "metadata": {},
   "outputs": [],
   "source": [
    "def save_video_from_dir(dir, save_dir=None, fps=5):\n",
    "    images = []\n",
    "    for file in sorted(os.listdir(dir)):\n",
    "        if file.endswith('.png'):\n",
    "            img = plt.imread(os.path.join(dir, file))\n",
    "            images.append(img)\n",
    "    fig = plt.figure()\n",
    "    plt.axis('off')\n",
    "    ims = [[plt.imshow(img, animated=True)] for img in images]\n",
    "    ani = animation.ArtistAnimation(fig, ims, interval=1000/fps, blit=True, repeat_delay=1000)\n",
    "    plt.tight_layout()\n",
    "    plt.close()\n",
    "    if save_dir is None:\n",
    "        save_dir = dir\n",
    "    os.makedirs(save_dir, exist_ok=True)\n",
    "    ani.save(os.path.join(save_dir, 'animation.mp4'), writer='ffmpeg', fps=fps)"
   ]
  },
  {
   "cell_type": "code",
   "execution_count": null,
   "id": "66c20017",
   "metadata": {},
   "outputs": [],
   "source": [
    "# save_video_from_dir('visualizations/attn_heads/dog_normalized', fps=5)\n",
    "# save_video_from_dir('visualizations/attn_heads/dog_not_normalized', fps=5)"
   ]
  },
  {
   "cell_type": "code",
   "execution_count": null,
   "id": "74d5dd45",
   "metadata": {},
   "outputs": [],
   "source": []
  },
  {
   "cell_type": "markdown",
   "id": "021b73a9",
   "metadata": {},
   "source": [
    "## DIFT with grads"
   ]
  },
  {
   "cell_type": "code",
   "execution_count": null,
   "id": "29f520e9",
   "metadata": {},
   "outputs": [],
   "source": [
    "def compute_dift_heatmap(tensors, grad_timestep, anchor_points, point_desc):\n",
    "    anchor_point = anchor_points[point_desc]\n",
    "    grads_at_t = [ tensors[s]['grad'][grad_timestep] for s in seeds ]\n",
    "    C,H,W = grads_at_t[0].shape\n",
    "    anchor_dift_vec = grads_at_t[0][:,anchor_point[0], anchor_point[1]] # shape = [C]\n",
    "\n",
    "    cossim = [ F.cosine_similarity(g.permute(1,2,0).view(-1,C), anchor_dift_vec).view(H,W) for g in grads_at_t]\n",
    "    softmax_cossim = [ F.softmax(g.view(-1), dim=0).view(H,W) for g in cossim ]\n",
    "\n",
    "    return cossim, softmax_cossim"
   ]
  },
  {
   "cell_type": "code",
   "execution_count": null,
   "id": "7a108abe",
   "metadata": {},
   "outputs": [],
   "source": [
    "cossim, softmax_cossim = compute_dift_heatmap(tensors, 10, anchor_points, 'Left Eye')"
   ]
  },
  {
   "cell_type": "code",
   "execution_count": null,
   "id": "dab4108a",
   "metadata": {},
   "outputs": [],
   "source": [
    "cossim[0].max(), cossim[0].min()"
   ]
  },
  {
   "cell_type": "code",
   "execution_count": null,
   "id": "5d7f5cc1",
   "metadata": {},
   "outputs": [],
   "source": [
    "# plot cossim[0]\n",
    "fig = plt.figure()\n",
    "plt.imshow(softmax_cossim[0].numpy(), cmap='Blues')\n",
    "plt.show()"
   ]
  },
  {
   "cell_type": "code",
   "execution_count": null,
   "id": "dd5108a7",
   "metadata": {},
   "outputs": [],
   "source": [
    "\n",
    "plot_latents_with_heatmaps(\n",
    "    latents=[latents[0]] + latents,\n",
    "    heatmaps=[ convert_one_hot_to_heatmap(anchor_points['Left Eye'], latents[0], radius=3) ] + cossim,\n",
    "    col_titles=['Anchor'] + [f'Seed {s}' for s in seeds],\n",
    "    latent_channel_to_plot=7,\n",
    "    suptitle='Left Eye'\n",
    ")"
   ]
  },
  {
   "cell_type": "code",
   "execution_count": null,
   "id": "d8b4c68e",
   "metadata": {},
   "outputs": [],
   "source": [
    "plot_latents_with_heatmaps(\n",
    "    latents=[latents[0]] + latents,\n",
    "    heatmaps=None,\n",
    "    col_titles=['Anchor'] + [f'Seed {s}' for s in seeds],\n",
    "    latent_channel_to_plot=7,\n",
    "    suptitle='Left Eye'\n",
    ")"
   ]
  },
  {
   "cell_type": "code",
   "execution_count": null,
   "id": "30ee8212",
   "metadata": {},
   "outputs": [],
   "source": [
    "for grad_timestep in range(tensors[seeds[0]]['x'].shape[0]):\n",
    "    cossim, softmax_cossim = compute_dift_heatmap(tensors, grad_timestep, anchor_points, 'Left Eye')\n",
    "    plot_latents_with_heatmaps(\n",
    "        latents=[latents[0]] + latents,\n",
    "        heatmaps=[ convert_one_hot_to_heatmap(anchor_points['Left Eye'], latents[0], radius=3) ] + softmax_cossim,\n",
    "        col_titles=['Anchor'] + [f'Seed {s}' for s in seeds],\n",
    "        latent_channel_to_plot=7,\n",
    "        suptitle=f'Using gradients at timestep {grad_timestep} for DIFT'\n",
    "    )"
   ]
  },
  {
   "cell_type": "code",
   "execution_count": null,
   "id": "04796a34",
   "metadata": {},
   "outputs": [],
   "source": [
    "cossim, softmax_cossim = compute_dift_heatmap(tensors, 33, anchor_points, 'Left Eye')"
   ]
  },
  {
   "cell_type": "code",
   "execution_count": null,
   "id": "fe998df8",
   "metadata": {},
   "outputs": [],
   "source": [
    "grad_33 = tensors[23]['grad'][33].view(-1).numpy()\n",
    "# plot histogram of grad_33\n",
    "plt.figure(figsize=(8,4))\n",
    "plt.hist(grad_33, bins=100)\n",
    "plt.title('Histogram of gradients at timestep 33 for seed 23')\n",
    "plt.xlabel('Gradient value')\n",
    "plt.ylabel('Frequency')\n",
    "plt.show()"
   ]
  },
  {
   "cell_type": "code",
   "execution_count": null,
   "id": "5ceff253",
   "metadata": {},
   "outputs": [],
   "source": []
  },
  {
   "cell_type": "markdown",
   "id": "20c60bc1",
   "metadata": {},
   "source": []
  }
 ],
 "metadata": {
  "kernelspec": {
   "display_name": "videoenv",
   "language": "python",
   "name": "python3"
  },
  "language_info": {
   "codemirror_mode": {
    "name": "ipython",
    "version": 3
   },
   "file_extension": ".py",
   "mimetype": "text/x-python",
   "name": "python",
   "nbconvert_exporter": "python",
   "pygments_lexer": "ipython3",
   "version": "3.12.9"
  }
 },
 "nbformat": 4,
 "nbformat_minor": 5
}
