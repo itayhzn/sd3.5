{
 "cells": [
  {
   "cell_type": "code",
   "execution_count": null,
   "id": "6f428f4d",
   "metadata": {},
   "outputs": [],
   "source": [
    "import torch\n",
    "import torch.nn.functional as F\n",
    "import numpy as np\n",
    "import os\n",
    "import matplotlib.pyplot as plt\n",
    "import matplotlib.gridspec as gridspec\n",
    "import matplotlib.animation as animation\n",
    "from matplotlib import rc\n",
    "from IPython.display import HTML\n",
    "from matplotlib import rcParams\n",
    "import seaborn as sns\n",
    "from textwrap import wrap\n",
    "from tqdm import tqdm\n",
    "import pandas as pd\n",
    "import re\n",
    "import math\n",
    "import gc\n",
    "import json"
   ]
  },
  {
   "cell_type": "code",
   "execution_count": null,
   "id": "2f7e043d",
   "metadata": {},
   "outputs": [],
   "source": [
    "def read_tensors_aux(dir, pt_name_predicate=None):\n",
    "    \"\"\" recursively read tensors from a directory \"\"\"\n",
    "    if pt_name_predicate is None:\n",
    "        pt_name_predicate = lambda x, y: True\n",
    "    tensors = {}\n",
    "    for path in os.listdir(dir):\n",
    "        if path.endswith('.pt'):\n",
    "            key = path[:-3]\n",
    "            if pt_name_predicate is None or pt_name_predicate(key, dir):\n",
    "                try:\n",
    "                    tensors[key] = torch.load(os.path.join(dir, path))\n",
    "                except Exception as e:\n",
    "                    print(f\"Error loading {path}: {e}\")\n",
    "        elif os.path.isdir(os.path.join(dir, path)):\n",
    "            key = path.split('_')[1] if path.startswith('timestep_') else path \n",
    "            tensors[key] = read_tensors_aux(os.path.join(dir, path), pt_name_predicate)\n",
    "        else:\n",
    "            print(f\"Skipping {path}, not a tensor or directory\")\n",
    "    return tensors"
   ]
  },
  {
   "cell_type": "code",
   "execution_count": null,
   "id": "b1ee6cc7",
   "metadata": {},
   "outputs": [],
   "source": [
    "dirname = 'outputs/grpo_mock_scorer_cat02'\n",
    "with open(f'{dirname}/training_log_group.csv', 'r') as f:\n",
    "    logs = f.read().replace(\"'\", '\"').replace('nan', 'null').splitlines()\n",
    "    logs = [json.loads(line) for line in logs if line.strip()]"
   ]
  },
  {
   "cell_type": "code",
   "execution_count": null,
   "id": "00a72123",
   "metadata": {},
   "outputs": [],
   "source": [
    "logs[0].keys()"
   ]
  },
  {
   "cell_type": "code",
   "execution_count": null,
   "id": "2d0b6c19",
   "metadata": {},
   "outputs": [],
   "source": [
    "data = []\n",
    "for log in logs:\n",
    "    for key in ['rewards', 'advantages', 'normalized_advantages', 'logps']:\n",
    "        for g in range(G):\n",
    "            data.append({\n",
    "                'epoch': log['epoch'],\n",
    "                't': log['t'],\n",
    "                'prompt_idx': log['prompt_idx'],\n",
    "                'seed_idx': log['seed_idx'],\n",
    "                'G_idx': g,\n",
    "                'metric': key,\n",
    "                'value': log[key][g]\n",
    "            })\n",
    "    data.append({\n",
    "        'epoch': log['epoch'],\n",
    "        't': log['t'],\n",
    "        'prompt_idx': log['prompt_idx'],\n",
    "        'seed_idx': log['seed_idx'],\n",
    "        'G_idx': None,\n",
    "        'metric': 'loss',\n",
    "        'value': log['loss']\n",
    "    })\n",
    "    # data.append({\n",
    "    #     'epoch': log['epoch'],\n",
    "    #     't': log['t'],\n",
    "    #     'prompt_idx': log['prompt_idx'],\n",
    "    #     'seed_idx': log['seed_idx'],\n",
    "    #     'G_idx': None,\n",
    "    #     'metric': 'rewards',\n",
    "    #     'value': log['ref_reward']\n",
    "    # })\n",
    "\n",
    "df = pd.DataFrame(data)"
   ]
  },
  {
   "cell_type": "code",
   "execution_count": null,
   "id": "82ef0acb",
   "metadata": {},
   "outputs": [],
   "source": [
    "# we have rows with epoch, metric, value. Create a boxplot of value vs epoch for all metrics in a grid\n",
    "metrics = df['metric'].unique()\n",
    "n_metrics = len(metrics)\n",
    "ncols = 2\n",
    "nrows = math.ceil(n_metrics / ncols)\n",
    "fig, axs = plt.subplots(nrows, ncols, figsize=(ncols*5, nrows*4))\n",
    "for i, metric in enumerate(metrics):\n",
    "    r = i // ncols\n",
    "    c = i % ncols\n",
    "    ax = axs[r, c] if nrows > 1 else axs[c]\n",
    "    if metric == 'loss':\n",
    "        sns.lineplot(x='epoch', y='value', data=df[df['metric'] == metric], ax=ax)\n",
    "    else:\n",
    "        sns.boxplot(x='epoch', y='value', data=df[df['metric'] == metric], ax=ax)\n",
    "    ax.set_title('\\n'.join(wrap(f'{metric} over Epochs', 40)))\n",
    "    ax.set_xlabel('Epoch')\n",
    "    ax.set_ylabel(metric)\n",
    "plt.tight_layout()\n",
    "plt.show()"
   ]
  },
  {
   "cell_type": "code",
   "execution_count": null,
   "id": "fb39338e",
   "metadata": {},
   "outputs": [],
   "source": [
    "# plot grid of images, epoch rows, G cols. The images are in 'dirname/ep{epoch}_t000_p00_s00_g{G_idx}.png'. For each image, write its reward value from the logs above.\n",
    "n_epochs = df['epoch'].nunique()\n",
    "fig, axs = plt.subplots(n_epochs, G+1, figsize=(G*3, n_epochs*3))\n",
    "for epoch in range(1, n_epochs+1):\n",
    "    image_paths = [ f'{dirname}/ep{epoch:02d}_t000_p00_s00_ref.png' ] + [ f'{dirname}/ep{epoch:02d}_t000_p00_s00_g{g:02d}.png' for g in range(0, G) ]\n",
    "    advantages = [ df[(df['epoch'] == epoch) & (df['G_idx'] == g) & (df['metric'] == 'advantages')]['value'].values[0] for g in range(0, G) ]\n",
    "    # ref_reward = df[(df['epoch'] == epoch) & (df['metric'] == 'rewards') & (df['G_idx'].isnull())]['value'].values[0]\n",
    "    titles = [f'Reference'] + [f'Advantage_{g} = {advantages[g]:.3f}' for g in range(0, G)]\n",
    "    for g in range(0,G+1):\n",
    "        ax = axs[epoch-1, g] if n_epochs > 1 else axs[g]\n",
    "        ax.imshow(plt.imread(image_paths[g]))\n",
    "        ax.set_title(titles[g])\n",
    "        ax.axis('off')\n",
    "plt.tight_layout()\n",
    "plt.show()"
   ]
  },
  {
   "cell_type": "code",
   "execution_count": null,
   "id": "908b1954",
   "metadata": {},
   "outputs": [],
   "source": []
  }
 ],
 "metadata": {
  "kernelspec": {
   "display_name": "videoenv",
   "language": "python",
   "name": "python3"
  },
  "language_info": {
   "codemirror_mode": {
    "name": "ipython",
    "version": 3
   },
   "file_extension": ".py",
   "mimetype": "text/x-python",
   "name": "python",
   "nbconvert_exporter": "python",
   "pygments_lexer": "ipython3",
   "version": "3.12.9"
  }
 },
 "nbformat": 4,
 "nbformat_minor": 5
}
